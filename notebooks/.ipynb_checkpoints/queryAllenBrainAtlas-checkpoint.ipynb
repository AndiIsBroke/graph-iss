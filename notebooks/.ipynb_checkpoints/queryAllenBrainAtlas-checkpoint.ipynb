{
 "cells": [
  {
   "cell_type": "markdown",
   "metadata": {},
   "source": [
    "# Query Allen Brain Atlas\n",
    "Download expression grids from Allen Brain Atlas for each gene present in the taglist"
   ]
  },
  {
   "cell_type": "code",
   "execution_count": null,
   "metadata": {},
   "outputs": [],
   "source": [
    "import requests\n",
    "import re\n",
    "import zipfile, io\n",
    "import urllib\n",
    "import array\n",
    "import pandas as pd\n",
    "import os"
   ]
  },
  {
   "cell_type": "code",
   "execution_count": null,
   "metadata": {},
   "outputs": [],
   "source": [
    "# Path where to save the expression grids\n",
    "path = \"../data/AllenBrainAtlas\"\n",
    "# Gene taglist\n",
    "tagList = pd.read_csv(\"../data/tagList_99-gene.csv\", sep = \",\", usecols = [1], header = None, names = [\"Seq\"])\n",
    "tagList = tagList.Seq.unique()"
   ]
  },
  {
   "cell_type": "code",
   "execution_count": null,
   "metadata": {},
   "outputs": [],
   "source": [
    "# Download energy grids\n",
    "for gene in tagList:\n",
    "    print(str(gene))\n",
    "    if not os.path.exists(path+\"/\"+gene):\n",
    "        os.makedirs(path+\"/\"+gene)\n",
    "    query_string = \"http://api.brain-map.org/api/v2/data/query.xml?criteria=model::SectionDataSet,rma::criteria,[failed$eq'false'],products[abbreviation$eq'Mouse'],plane_of_section[name$eq'coronal'],genes[acronym$eq'\"+gene+\"']\"\n",
    "    response = requests.get(query_string)\n",
    "    res=re.findall('<id>(.*)</id>',response.text)\n",
    "    for exp in res:\n",
    "        print(\"\\t\"+str(exp))\n",
    "        if not os.path.exists(path+\"/\"+gene+\"/\"+exp):\n",
    "            os.makedirs(path+\"/\"+gene+\"/\"+exp)\n",
    "        query_string = \"http://api.brain-map.org/grid_data/download/\"+exp+\"?include=energy\"\n",
    "        fh = urllib.request.urlretrieve(query_string)\n",
    "        zf = zipfile.ZipFile(fh[0])\n",
    "        header = zf.read('energy.mhd')\n",
    "        raw = zf.read('energy.raw')\n",
    "        arr_size=np.array(re.split(\" \",re.findall('DimSize = (.*)\\nElementType',header.decode(\"utf-8\"))[0])).astype(int)\n",
    "        arr = np.array(array.array('f',raw)).reshape(arr_size, order='F')\n",
    "        np.save(path+\"/\"+gene+\"/\"+exp+\"/energy\",arr)"
   ]
  }
 ],
 "metadata": {
  "kernelspec": {
   "display_name": "Python 3",
   "language": "python",
   "name": "python3"
  },
  "language_info": {
   "codemirror_mode": {
    "name": "ipython",
    "version": 3
   },
   "file_extension": ".py",
   "mimetype": "text/x-python",
   "name": "python",
   "nbconvert_exporter": "python",
   "pygments_lexer": "ipython3",
   "version": "3.7.1"
  }
 },
 "nbformat": 4,
 "nbformat_minor": 2
}
